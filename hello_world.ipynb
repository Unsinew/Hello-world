{
  "nbformat": 4,
  "nbformat_minor": 0,
  "metadata": {
    "colab": {
      "provenance": [],
      "authorship_tag": "ABX9TyP5rpURDAJDhcWweLtFCIaA",
      "include_colab_link": true
    },
    "kernelspec": {
      "name": "python3",
      "display_name": "Python 3"
    },
    "language_info": {
      "name": "python"
    }
  },
  "cells": [
    {
      "cell_type": "markdown",
      "metadata": {
        "id": "view-in-github",
        "colab_type": "text"
      },
      "source": [
        "<a href=\"https://colab.research.google.com/github/Unsinew/Hello-world/blob/main/hello_world.ipynb\" target=\"_parent\"><img src=\"https://colab.research.google.com/assets/colab-badge.svg\" alt=\"Open In Colab\"/></a>"
      ]
    },
    {
      "cell_type": "code",
      "execution_count": 9,
      "metadata": {
        "colab": {
          "base_uri": "https://localhost:8080/"
        },
        "id": "0CJp0GelRGff",
        "outputId": "96b313fc-5363-4865-ad92-7f99e455091a"
      },
      "outputs": [
        {
          "output_type": "stream",
          "name": "stdout",
          "text": [
            "hello world\n"
          ]
        }
      ],
      "source": [
        "##the code to start it all\n",
        "print(\"hello world\")"
      ]
    },
    {
      "cell_type": "markdown",
      "source": [],
      "metadata": {
        "id": "NC4dW9z2TDAt"
      }
    },
    {
      "cell_type": "markdown",
      "source": [
        "##Project Title"
      ],
      "metadata": {
        "id": "zLwzYgpoTGqE"
      }
    },
    {
      "cell_type": "code",
      "source": [],
      "metadata": {
        "id": "IWXVDww4THH-"
      },
      "execution_count": null,
      "outputs": []
    },
    {
      "cell_type": "markdown",
      "source": [
        "##Data Cleaning"
      ],
      "metadata": {
        "id": "-nlNyPg9TQY-"
      }
    },
    {
      "cell_type": "code",
      "source": [],
      "metadata": {
        "id": "04xUg1_lS4qr"
      },
      "execution_count": null,
      "outputs": []
    },
    {
      "cell_type": "markdown",
      "source": [
        "## Exploratory Visuals"
      ],
      "metadata": {
        "id": "lXGVkSdKTY9I"
      }
    },
    {
      "cell_type": "code",
      "source": [],
      "metadata": {
        "id": "e31zXaKPTeQn"
      },
      "execution_count": null,
      "outputs": []
    },
    {
      "cell_type": "markdown",
      "source": [
        "## Explanatory Visuals"
      ],
      "metadata": {
        "id": "uUy9ilgMTdPr"
      }
    },
    {
      "cell_type": "code",
      "source": [],
      "metadata": {
        "id": "Vfk6mg-UTfUo"
      },
      "execution_count": null,
      "outputs": []
    }
  ]
}